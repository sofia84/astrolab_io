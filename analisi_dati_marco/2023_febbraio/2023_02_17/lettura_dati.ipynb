{
 "cells": [
  {
   "attachments": {},
   "cell_type": "markdown",
   "metadata": {},
   "source": [
    "# 17 febbraio 2023"
   ]
  },
  {
   "cell_type": "code",
   "execution_count": 26,
   "metadata": {},
   "outputs": [],
   "source": [
    "import numpy as np\n",
    "import pandas as pd"
   ]
  },
  {
   "cell_type": "code",
   "execution_count": 27,
   "metadata": {},
   "outputs": [],
   "source": [
    "azimuth_min =  269.9\n",
    "azimuth_max = 270.1\n",
    "\n",
    "data_i = pd.to_datetime('2023-02-17 01:00:00', format = '%Y-%m-%d %H:%M:%S')\n",
    "data_f = pd.to_datetime('2023-02-17 03:52:00', format = '%Y-%m-%d %H:%M:%S')\n",
    "data_m = pd.to_datetime('2023-02-17 04:56:00', format = '%Y-%m-%d %H:%M:%S')\n",
    "\n",
    "title = '17 febbraio 2023, azimuth: 265'\n",
    "\n",
    "file_parabola = 'dati/TDA2023_02_17.txt'\n",
    "file_ricevitore = 'dati/2023-02-17.txt'"
   ]
  },
  {
   "cell_type": "code",
   "execution_count": 28,
   "metadata": {},
   "outputs": [],
   "source": [
    "parabola = pd.read_csv (file_parabola,\n",
    "                           sep=';',\n",
    "                           header=None,\n",
    "                           comment='#')\n",
    "\n",
    "ricevitore_10 = pd.read_csv (file_ricevitore,\n",
    "                                sep = ' ',\n",
    "                                header=None,\n",
    "                                skiprows=11,\n",
    "                                decimal='.',\n",
    "                                names=['data','ora','rad','temperatura'])"
   ]
  },
  {
   "cell_type": "code",
   "execution_count": 29,
   "metadata": {},
   "outputs": [],
   "source": [
    "parabola.rename(columns={0: 'day', 1: 'month', 2: 'year', 3: 'hour', 4: 'minute', 5: 'second', 9: 'azimuth', 10: 'elevazione'}, inplace = True)\n",
    "parabola['data_ora'] = pd.to_datetime(parabola[[\"day\", \"month\", \"year\", \"hour\", \"minute\", \"second\"]])\n",
    "parabola = parabola.loc[:,['data_ora','elevazione','azimuth']]"
   ]
  },
  {
   "cell_type": "code",
   "execution_count": 30,
   "metadata": {},
   "outputs": [],
   "source": [
    "mask_1 = parabola.azimuth <= azimuth_max\n",
    "mask_2 = parabola.azimuth >= azimuth_min\n",
    "mask_3 = parabola.data_ora >= data_i\n",
    "mask_4 = parabola.data_ora <= data_f\n",
    "parabola = parabola.loc[mask_1 & mask_2 & mask_3 & mask_4]\n",
    "parabola.reset_index(inplace=True, drop=True)"
   ]
  },
  {
   "cell_type": "code",
   "execution_count": 31,
   "metadata": {},
   "outputs": [],
   "source": [
    "while parabola.at[0,'elevazione'] > 20.1:\n",
    "    parabola = parabola.drop(labels=0, axis=0)\n",
    "    parabola.reset_index(inplace=True, drop=True)"
   ]
  },
  {
   "cell_type": "code",
   "execution_count": 32,
   "metadata": {},
   "outputs": [],
   "source": [
    "ricevitore_10['data_ora'] = ricevitore_10['data'].map(str) + ' ' + ricevitore_10['ora'].map(str)\n",
    "ricevitore_10['data_ora'] = pd.to_datetime(ricevitore_10['data_ora'], format = '%m/%d/%Y %H:%M:%S.%f')\n",
    "ricevitore_10 = ricevitore_10.iloc[:,[-1,2,3]]"
   ]
  },
  {
   "cell_type": "code",
   "execution_count": 33,
   "metadata": {},
   "outputs": [],
   "source": [
    "delta_time = pd.Timedelta(hours = 1)\n",
    "mask_5 = ricevitore_10.data_ora >= parabola.iloc[0]['data_ora'] + delta_time\n",
    "mask_6 = ricevitore_10.data_ora <= parabola.iloc[-1]['data_ora'] + delta_time\n",
    "ricevitore_10 = ricevitore_10[mask_5 & mask_6]"
   ]
  },
  {
   "cell_type": "code",
   "execution_count": 34,
   "metadata": {},
   "outputs": [],
   "source": [
    "parabola['data_ora'] = parabola.data_ora + 2*delta_time\n",
    "ricevitore_10['data_ora'] = ricevitore_10.data_ora + delta_time"
   ]
  },
  {
   "cell_type": "code",
   "execution_count": 35,
   "metadata": {},
   "outputs": [],
   "source": [
    "parabola.to_csv('dati/parabola.csv', index=False)\n",
    "ricevitore_10.to_csv('dati/ricevitore.csv', index=False)"
   ]
  },
  {
   "cell_type": "code",
   "execution_count": 36,
   "metadata": {},
   "outputs": [],
   "source": [
    "df = pd.DataFrame(columns=['data_ora','rad','temperatura','elevazione'])\n",
    "\n",
    "for i in range (20, 56, 5):\n",
    "    mask_11 = parabola.elevazione >= i - 0.1\n",
    "    mask_12 = parabola.elevazione <= i + 0.1\n",
    "    mask_13 = parabola.data_ora <= data_m \n",
    "    a = parabola[mask_11 & mask_12 & mask_13]\n",
    "    if a.empty == False:\n",
    "        mask_7 = ricevitore_10.data_ora >= a.iloc[0]['data_ora'] \n",
    "        mask_8 = ricevitore_10.data_ora <= a.iloc[-1]['data_ora'] \n",
    "        b = ricevitore_10[mask_7 & mask_8].assign(elevazione = i)\n",
    "        df = pd.concat([df,b])\n",
    "\n",
    "for j in range (50, 19, -5):\n",
    "    mask_14 = parabola.elevazione >= j - 0.3\n",
    "    mask_15 = parabola.elevazione <= j + 0.3\n",
    "    mask_16 = parabola.data_ora >= data_m \n",
    "    c = parabola[mask_14 & mask_15 & mask_16]\n",
    "    if c.empty == False:\n",
    "        mask_9 = ricevitore_10.data_ora >= c.iloc[0]['data_ora'] \n",
    "        mask_10 = ricevitore_10.data_ora <= c.iloc[-1]['data_ora'] \n",
    "        d = ricevitore_10[mask_9 & mask_10].assign(elevazione = j)\n",
    "        df = pd.concat([df,d])"
   ]
  },
  {
   "cell_type": "code",
   "execution_count": 37,
   "metadata": {},
   "outputs": [],
   "source": [
    "df.to_csv('dati/dati.csv', index=False)"
   ]
  },
  {
   "cell_type": "code",
   "execution_count": 45,
   "metadata": {},
   "outputs": [],
   "source": [
    "elevazione_20 = df[df.elevazione == 20]\n",
    "elevazione_20.to_csv('dati/elevazione_20.csv', index=False)"
   ]
  },
  {
   "cell_type": "code",
   "execution_count": null,
   "metadata": {},
   "outputs": [],
   "source": [
    "elevazione_25 = df[df.elevazione == 25]\n",
    "elevazione_25.to_csv('dati/elevazione_25.csv', index=False)"
   ]
  },
  {
   "cell_type": "code",
   "execution_count": null,
   "metadata": {},
   "outputs": [],
   "source": [
    "elevazione_30 = df[df.elevazione == 30]\n",
    "elevazione_30.to_csv('dati/elevazione_30.csv', index=False)"
   ]
  },
  {
   "cell_type": "code",
   "execution_count": null,
   "metadata": {},
   "outputs": [],
   "source": [
    "elevazione_35 = df[df.elevazione == 35]\n",
    "elevazione_35.to_csv('dati/elevazione_35.csv', index=False)"
   ]
  },
  {
   "cell_type": "code",
   "execution_count": null,
   "metadata": {},
   "outputs": [],
   "source": [
    "elevazione_40 = df[df.elevazione == 40]\n",
    "elevazione_40.to_csv('dati/elevazione_40.csv', index=False)"
   ]
  },
  {
   "cell_type": "code",
   "execution_count": null,
   "metadata": {},
   "outputs": [],
   "source": [
    "elevazione_45 = df[df.elevazione == 45]\n",
    "elevazione_45.to_csv('dati/elevazione_45.csv', index=False)"
   ]
  },
  {
   "cell_type": "code",
   "execution_count": null,
   "metadata": {},
   "outputs": [],
   "source": [
    "elevazione_50 = df[df.elevazione == 50]\n",
    "elevazione_50.to_csv('dati/elevazione_50.csv', index=False)"
   ]
  },
  {
   "cell_type": "code",
   "execution_count": null,
   "metadata": {},
   "outputs": [],
   "source": [
    "elevazione_55 = df[df.elevazione == 55]\n",
    "elevazione_55.to_csv('dati/elevazione_55.csv', index=False)"
   ]
  }
 ],
 "metadata": {
  "kernelspec": {
   "display_name": "Python 3",
   "language": "python",
   "name": "python3"
  },
  "language_info": {
   "codemirror_mode": {
    "name": "ipython",
    "version": 3
   },
   "file_extension": ".py",
   "mimetype": "text/x-python",
   "name": "python",
   "nbconvert_exporter": "python",
   "pygments_lexer": "ipython3",
   "version": "3.11.1"
  },
  "orig_nbformat": 4
 },
 "nbformat": 4,
 "nbformat_minor": 2
}
